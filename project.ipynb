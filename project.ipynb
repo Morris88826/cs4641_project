{
 "cells": [
  {
   "cell_type": "markdown",
   "metadata": {},
   "source": [
    "# Machine Learning Project "
   ]
  },
  {
   "cell_type": "code",
   "execution_count": 1,
   "metadata": {},
   "outputs": [],
   "source": [
    "import pandas as pd\n",
    "import numpy as np\n",
    "import torch\n",
    "import torch.nn.functional as F\n",
    "from torch import nn\n",
    "import torch.optim as optim\n",
    "import PIL\n",
    "import matplotlib.pyplot as plt\n",
    "from typing import Tuple\n",
    "from tqdm import tqdm\n",
    "from PIL import Image\n",
    "from helper_func import load_image, PIL_resize\n",
    "from matplotlib.pyplot import imshow\n"
   ]
  },
  {
   "cell_type": "markdown",
   "metadata": {},
   "source": [
    "## Preprocess Image\n",
    "Load the data from the dataset folder and resize the picture.\n"
   ]
  },
  {
   "cell_type": "code",
   "execution_count": 2,
   "metadata": {},
   "outputs": [
    {
     "name": "stderr",
     "output_type": "stream",
     "text": [
      "100%|██████████| 2527/2527 [00:22<00:00, 114.33it/s]"
     ]
    },
    {
     "name": "stdout",
     "output_type": "stream",
     "text": [
      "Training data size:  (2527, 38, 51, 3)\n",
      "Training label size:  (2527,)\n"
     ]
    },
    {
     "name": "stderr",
     "output_type": "stream",
     "text": [
      "\n"
     ]
    }
   ],
   "source": [
    "train = pd.read_csv('garbage-classification/zero-indexed-files.csv')\n",
    "data = []\n",
    "labels = train['Label'].values\n",
    "for i in tqdm(range(train.shape[0])):\n",
    "    img = load_image('garbage-classification/data/'+train['Name'][i]+'.jpg')\n",
    "    img = PIL_resize(img, (0.1,0.1))\n",
    "    data.append(img)\n",
    "data = np.asarray(data)\n",
    "print(\"Training data size: \", data.shape)\n",
    "print(\"Training label size: \", labels.shape)"
   ]
  },
  {
   "cell_type": "markdown",
   "metadata": {},
   "source": [
    "## Training Data and Testing Data\n",
    "We will randomly select a portion of data for training and using the rest of them for testing. We can change the ratio of $\\frac{\\text{training data}}{\\text{testing data}}$ to improve the performance of our network."
   ]
  },
  {
   "cell_type": "code",
   "execution_count": 3,
   "metadata": {},
   "outputs": [
    {
     "name": "stdout",
     "output_type": "stream",
     "text": [
      "Class name:  ['glass', 'paper', 'cardboard', 'plastic', 'metal', 'trash']\n",
      "Class start index: [   0  501 1095 1498 1980 2390]\n"
     ]
    }
   ],
   "source": [
    "num_classified = 6\n",
    "classified_name = [\"glass\", \"paper\", \"cardboard\", \"plastic\", \"metal\", \"trash\"]\n",
    "\n",
    "classified_start_idx = np.zeros(num_classified, dtype=int)\n",
    "classified_size = np.zeros(num_classified, dtype=int)\n",
    "temp_count = 0\n",
    "for i in range(num_classified):\n",
    "    classified_start_idx[i] = temp_count\n",
    "    size = np.count_nonzero(labels == i)\n",
    "    classified_size[i] = size\n",
    "    temp_count += size\n",
    "    \n",
    "print(\"Class name: \", classified_name)\n",
    "print(\"Class start index:\", classified_start_idx)"
   ]
  },
  {
   "cell_type": "code",
   "execution_count": 4,
   "metadata": {},
   "outputs": [
    {
     "data": {
      "text/plain": [
       "<matplotlib.image.AxesImage at 0x122ef3390>"
      ]
     },
     "execution_count": 4,
     "metadata": {},
     "output_type": "execute_result"
    },
    {
     "data": {
      "image/png": "[encoded data removed]",
      "text/plain": [
       "<Figure size 432x288 with 1 Axes>"
      ]
     },
     "metadata": {
      "needs_background": "light"
     },
     "output_type": "display_data"
    }
   ],
   "source": [
    "plt.figure()\n",
    "display_idx = 1\n",
    "plt.title(classified_name[display_idx])\n",
    "imshow(data[classified_start_idx[display_idx]])"
   ]
  },
  {
   "cell_type": "code",
   "execution_count": 5,
   "metadata": {},
   "outputs": [
    {
     "name": "stdout",
     "output_type": "stream",
     "text": [
      "[501 594 403 482 410 137]\n",
      "[450 534 362 433 369 123]\n",
      "[51 60 41 49 41 14]\n"
     ]
    }
   ],
   "source": [
    "training_ratio = 0.9\n",
    "\n",
    "training_data_size = np.array(training_ratio*classified_size, dtype=int)\n",
    "testing_data_size = classified_size - training_data_size\n",
    "print(classified_size)\n",
    "print(training_data_size)\n",
    "print(testing_data_size)"
   ]
  },
  {
   "cell_type": "code",
   "execution_count": 6,
   "metadata": {
    "scrolled": false
   },
   "outputs": [
    {
     "name": "stdout",
     "output_type": "stream",
     "text": [
      "[ 578  274  506 ... 1306 1155  818]\n"
     ]
    }
   ],
   "source": [
    "training_idx = np.array([], dtype=int)\n",
    "testing_idx = np.array([], dtype=int)\n",
    "for i in range(num_classified):\n",
    "    selected = np.random.choice(classified_size[i],size=training_data_size[i],  replace=False)\n",
    "    each = np.arange(classified_size[i])\n",
    "    training_idx = np.concatenate((training_idx, selected+classified_start_idx[i]), axis=0)\n",
    "    testing_idx = np.concatenate((testing_idx, np.setdiff1d(each, selected)+classified_start_idx[i]), axis=0)\n",
    "training_idx = np.random.permutation(training_idx)\n",
    "testing_idx = np.random.permutation(testing_idx)\n",
    "print(training_idx)"
   ]
  },
  {
   "cell_type": "code",
   "execution_count": 7,
   "metadata": {},
   "outputs": [],
   "source": [
    "def convert_to_one_hot(x, classes):\n",
    "    one_hot = np.zeros((x.shape[0], classes), dtype=int)\n",
    "    one_hot[np.arange(x.shape[0]), x] = 1\n",
    "    return one_hot"
   ]
  },
  {
   "cell_type": "code",
   "execution_count": 8,
   "metadata": {},
   "outputs": [
    {
     "name": "stdout",
     "output_type": "stream",
     "text": [
      "Training data shape:  torch.Size([2271, 3, 38, 51])\n",
      "Training labels shape:  torch.Size([2271])\n",
      "Testing data shape:  torch.Size([256, 3, 38, 51])\n",
      "Testing labels shape:  torch.Size([256])\n"
     ]
    }
   ],
   "source": [
    "labels = train['Label'].values\n",
    "training_data = data[training_idx]\n",
    "training_labels = labels[training_idx]\n",
    "testing_data = data[testing_idx]\n",
    "testing_labels = labels[testing_idx]\n",
    "training_data = np.swapaxes(training_data, 1,3)\n",
    "training_data = np.swapaxes(training_data, 2,3)\n",
    "testing_data = np.swapaxes(testing_data, 1,3)\n",
    "testing_data = np.swapaxes(testing_data, 2,3)\n",
    "\n",
    "training_data = torch.from_numpy(training_data)\n",
    "training_labels = torch.from_numpy(training_labels)\n",
    "testing_data = torch.from_numpy(testing_data)\n",
    "testing_labels = torch.from_numpy(testing_labels)\n",
    "print(\"Training data shape: \", training_data.shape)\n",
    "print(\"Training labels shape: \", training_labels.shape)\n",
    "print(\"Testing data shape: \", testing_data.shape)\n",
    "print(\"Testing labels shape: \", testing_labels.shape)"
   ]
  },
  {
   "cell_type": "code",
   "execution_count": 9,
   "metadata": {},
   "outputs": [],
   "source": [
    "def create_batches(data, labels, batch_size=4):\n",
    "    mini_batch_data = torch.split(data, batch_size, dim=0)[:-1]\n",
    "    mini_batch_labels = torch.split(labels, batch_size, dim=0)[:-1]\n",
    "    batches = []\n",
    "    for i in range(len(mini_batch_data)):\n",
    "        batches.append((mini_batch_data[i], mini_batch_labels[i]))    \n",
    "    return batches\n",
    "\n",
    "batch_size = 4\n",
    "training_batches = create_batches(training_data, training_labels, batch_size)\n",
    "testing_batches = create_batches(testing_data, testing_labels, batch_size)"
   ]
  },
  {
   "cell_type": "markdown",
   "metadata": {},
   "source": [
    "## Neural Network Architecture"
   ]
  },
  {
   "cell_type": "code",
   "execution_count": 50,
   "metadata": {},
   "outputs": [],
   "source": [
    "class Net(nn.Module):\n",
    "    def __init__(self, batch_size=4, height=192, width=256):\n",
    "        super(Net, self).__init__()\n",
    "        kernel_size = 3\n",
    "        self.num_feature_map = 64\n",
    "        self.num_hidden_unit = 120\n",
    "        self.width = width\n",
    "        self.height = height\n",
    "        self.batch_size = batch_size\n",
    "        \n",
    "        self.conv1 = nn.Conv2d(3, self.num_feature_map, kernel_size=kernel_size, padding=(kernel_size//2), bias=False)\n",
    "#         self.conv2 = nn.Conv2d(32, self.num_feature_map, kernel_size=kernel_size, padding=(kernel_size//2))\n",
    "        self.fc1 = nn.Linear(self.num_feature_map * width * height, self.num_hidden_unit)\n",
    "        self.fc2 = nn.Linear(self.num_hidden_unit, 64)\n",
    "        self.fc3 = nn.Linear(64, num_classified)\n",
    "        \n",
    "    def forward(self, x):\n",
    "        x = F.relu(self.conv1(x))\n",
    "#         x = F.relu(self.conv2(x))\n",
    "        x = x.view(-1, self.num_feature_map * self.width * self.height)\n",
    "        x = F.relu(self.fc1(x))\n",
    "        x = F.relu(self.fc2(x))\n",
    "        x = F.softmax(self.fc3(x), dim=1)\n",
    "#         x = self.fc3(x)\n",
    "        return x\n",
    "    \n",
    "net = Net(batch_size=batch_size, height=training_data.shape[2], width=training_data.shape[3])"
   ]
  },
  {
   "cell_type": "code",
   "execution_count": 54,
   "metadata": {},
   "outputs": [],
   "source": [
    "criterion = nn.CrossEntropyLoss()\n",
    "optimizer = optim.SGD(net.parameters(), lr=0.0005, momentum=0.9)"
   ]
  },
  {
   "cell_type": "code",
   "execution_count": 55,
   "metadata": {},
   "outputs": [
    {
     "name": "stderr",
     "output_type": "stream",
     "text": [
      "  9%|▉         | 51/567 [00:04<00:44, 11.66it/s]"
     ]
    },
    {
     "name": "stdout",
     "output_type": "stream",
     "text": [
      "[1,    50] loss: 1.763\n"
     ]
    },
    {
     "name": "stderr",
     "output_type": "stream",
     "text": [
      " 18%|█▊        | 101/567 [00:08<00:38, 11.96it/s]"
     ]
    },
    {
     "name": "stdout",
     "output_type": "stream",
     "text": [
      "[1,   100] loss: 1.759\n"
     ]
    },
    {
     "name": "stderr",
     "output_type": "stream",
     "text": [
      " 27%|██▋       | 151/567 [00:13<00:35, 11.77it/s]"
     ]
    },
    {
     "name": "stdout",
     "output_type": "stream",
     "text": [
      "[1,   150] loss: 1.760\n"
     ]
    },
    {
     "name": "stderr",
     "output_type": "stream",
     "text": [
      " 35%|███▌      | 201/567 [00:17<00:31, 11.79it/s]"
     ]
    },
    {
     "name": "stdout",
     "output_type": "stream",
     "text": [
      "[1,   200] loss: 1.774\n"
     ]
    },
    {
     "name": "stderr",
     "output_type": "stream",
     "text": [
      " 44%|████▍     | 251/567 [00:21<00:26, 11.87it/s]"
     ]
    },
    {
     "name": "stdout",
     "output_type": "stream",
     "text": [
      "[1,   250] loss: 1.740\n"
     ]
    },
    {
     "name": "stderr",
     "output_type": "stream",
     "text": [
      " 53%|█████▎    | 301/567 [00:25<00:22, 11.83it/s]"
     ]
    },
    {
     "name": "stdout",
     "output_type": "stream",
     "text": [
      "[1,   300] loss: 1.771\n"
     ]
    },
    {
     "name": "stderr",
     "output_type": "stream",
     "text": [
      " 62%|██████▏   | 351/567 [00:30<00:18, 11.83it/s]"
     ]
    },
    {
     "name": "stdout",
     "output_type": "stream",
     "text": [
      "[1,   350] loss: 1.764\n"
     ]
    },
    {
     "name": "stderr",
     "output_type": "stream",
     "text": [
      " 71%|███████   | 402/567 [00:34<00:15, 10.97it/s]"
     ]
    },
    {
     "name": "stdout",
     "output_type": "stream",
     "text": [
      "[1,   400] loss: 1.752\n"
     ]
    },
    {
     "name": "stderr",
     "output_type": "stream",
     "text": [
      " 80%|███████▉  | 452/567 [00:39<00:09, 11.93it/s]"
     ]
    },
    {
     "name": "stdout",
     "output_type": "stream",
     "text": [
      "[1,   450] loss: 1.774\n"
     ]
    },
    {
     "name": "stderr",
     "output_type": "stream",
     "text": [
      " 89%|████████▊ | 502/567 [00:43<00:05, 11.72it/s]"
     ]
    },
    {
     "name": "stdout",
     "output_type": "stream",
     "text": [
      "[1,   500] loss: 1.766\n"
     ]
    },
    {
     "name": "stderr",
     "output_type": "stream",
     "text": [
      " 97%|█████████▋| 552/567 [00:47<00:01, 11.56it/s]"
     ]
    },
    {
     "name": "stdout",
     "output_type": "stream",
     "text": [
      "[1,   550] loss: 1.752\n"
     ]
    },
    {
     "name": "stderr",
     "output_type": "stream",
     "text": [
      "100%|██████████| 567/567 [00:49<00:00, 11.56it/s]\n"
     ]
    }
   ],
   "source": [
    "running_loss = 0.0\n",
    "epoch = 0\n",
    "for i in tqdm(range(len(training_batches))):\n",
    "    # get the inputs; data is a list of [inputs, labels]\n",
    "    inputs, labels = training_batches[i]\n",
    "    \n",
    "    # zero the parameter gradients\n",
    "    optimizer.zero_grad()\n",
    "\n",
    "    # forward + backward + optimize\n",
    "    outputs = net(inputs)\n",
    "    loss = criterion(outputs, labels)\n",
    "    loss.backward()\n",
    "    optimizer.step()\n",
    "    # print statistics\n",
    "    running_loss += loss.item()\n",
    "    \n",
    "    print_batches = 50\n",
    "    if i % print_batches == (print_batches-1):    # print every 50 mini-batches\n",
    "        print('[%d, %5d] loss: %.3f' %\n",
    "              (epoch + 1, i + 1, running_loss / print_batches))\n",
    "        running_loss = 0.0\n",
    "PATH = './cifar_net.pth'\n",
    "torch.save(net.state_dict(), PATH)"
   ]
  },
  {
   "cell_type": "code",
   "execution_count": 56,
   "metadata": {},
   "outputs": [
    {
     "name": "stdout",
     "output_type": "stream",
     "text": [
      "tensor([[0.2292, 0.4580, 0.0264, 0.2495, 0.0336, 0.0034],\n",
      "        [0.2343, 0.3843, 0.0510, 0.2586, 0.0605, 0.0112],\n",
      "        [0.2338, 0.4220, 0.0372, 0.2536, 0.0469, 0.0064],\n",
      "        [0.2364, 0.4166, 0.0403, 0.2470, 0.0523, 0.0075]],\n",
      "       grad_fn=<SoftmaxBackward>)\n",
      "GroundTruth:  metal plastic metal glass\n",
      "Predicted:  paper paper paper paper\n"
     ]
    },
    {
     "data": {
      "image/png": "[encoded data removed]",
      "text/plain": [
       "<Figure size 432x288 with 1 Axes>"
      ]
     },
     "metadata": {
      "needs_background": "light"
     },
     "output_type": "display_data"
    },
    {
     "data": {
      "image/png": "[encoded data removed]",
      "text/plain": [
       "<Figure size 432x288 with 1 Axes>"
      ]
     },
     "metadata": {
      "needs_background": "light"
     },
     "output_type": "display_data"
    },
    {
     "data": {
      "image/png": "[encoded data removed]",
      "text/plain": [
       "<Figure size 432x288 with 1 Axes>"
      ]
     },
     "metadata": {
      "needs_background": "light"
     },
     "output_type": "display_data"
    },
    {
     "data": {
      "image/png": "[encoded data removed]",
      "text/plain": [
       "<Figure size 432x288 with 1 Axes>"
      ]
     },
     "metadata": {
      "needs_background": "light"
     },
     "output_type": "display_data"
    }
   ],
   "source": [
    "\n",
    "net.load_state_dict(torch.load(PATH))\n",
    "t1, t2 = testing_batches[0]\n",
    "for i in range(t1.shape[0]):\n",
    "    plt.figure()\n",
    "    temp = np.swapaxes(t1[i], 0,2)\n",
    "    temp = np.swapaxes(temp, 0,1)\n",
    "    imshow(temp)\n",
    "    \n",
    "outputs = net(t1)\n",
    "print(outputs)\n",
    "_, predicted = torch.max(outputs, 1)\n",
    "\n",
    "print('GroundTruth: ', ' '.join('%5s' % classified_name[t2[j]]\n",
    "                              for j in range(4)))\n",
    "print('Predicted: ', ' '.join('%5s' % classified_name[predicted[j]]\n",
    "                              for j in range(4)))\n"
   ]
  },
  {
   "cell_type": "markdown",
   "metadata": {},
   "source": [
    "## Testing the accuracy"
   ]
  },
  {
   "cell_type": "code",
   "execution_count": 40,
   "metadata": {},
   "outputs": [
    {
     "name": "stdout",
     "output_type": "stream",
     "text": [
      "0.14682539682539683\n"
     ]
    }
   ],
   "source": [
    "correct_match = 0\n",
    "test_size = len(testing_batches) * batch_size\n",
    "\n",
    "for i in range(len(testing_batches)):\n",
    "    data, labels = testing_batches[i]\n",
    "    outputs = net(data)\n",
    "    _, predicted = torch.max(outputs, 1)\n",
    "    matches = np.intersect1d(predicted, labels)\n",
    "    correct_match += len(matches)\n",
    "accuracy = correct_match/test_size\n",
    "print(accuracy)"
   ]
  },
  {
   "cell_type": "code",
   "execution_count": null,
   "metadata": {},
   "outputs": [],
   "source": []
  }
 ],
 "metadata": {
  "file_extension": ".py",
  "kernelspec": {
   "display_name": "Python 3",
   "language": "python",
   "name": "python3"
  },
  "language_info": {
   "codemirror_mode": {
    "name": "ipython",
    "version": 3
   },
   "file_extension": ".py",
   "mimetype": "text/x-python",
   "name": "python",
   "nbconvert_exporter": "python",
   "pygments_lexer": "ipython3",
   "version": "3.7.1"
  },
  "mimetype": "text/x-python",
  "name": "python",
  "npconvert_exporter": "python",
  "pygments_lexer": "ipython3",
  "version": 3
 },
 "nbformat": 4,
 "nbformat_minor": 2
}
