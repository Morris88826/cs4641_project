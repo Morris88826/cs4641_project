{
 "cells": [
  {
   "cell_type": "markdown",
   "metadata": {},
   "source": [
    "# Using KNN for classification"
   ]
  },
  {
   "cell_type": "code",
   "execution_count": 1,
   "metadata": {},
   "outputs": [],
   "source": [
    "import pandas as pd\n",
    "import numpy as np\n",
    "import torch\n",
    "import torch.nn.functional as F\n",
    "from torch import nn\n",
    "import torch.optim as optim\n",
    "import PIL\n",
    "import matplotlib.pyplot as plt\n",
    "from typing import Tuple\n",
    "from tqdm import tqdm\n",
    "from PIL import Image\n",
    "from helper_func import load_image, PIL_resize, PIL_resize_ws, data_loader\n",
    "from utils import nearest_neighbor_classify\n",
    "from matplotlib.pyplot import imshow\n",
    "from sklearn.metrics import confusion_matrix\n",
    "from sklearn.utils.multiclass import unique_labels\n",
    "from helper_func import generate_confusion_matrix"
   ]
  },
  {
   "cell_type": "code",
   "execution_count": 2,
   "metadata": {},
   "outputs": [
    {
     "name": "stderr",
     "output_type": "stream",
     "text": [
      "100%|██████████| 2527/2527 [00:22<00:00, 110.80it/s]"
     ]
    },
    {
     "name": "stdout",
     "output_type": "stream",
     "text": [
      "Training data size:  (2527, 32, 32)\n",
      "Training label size:  (2527,)\n"
     ]
    },
    {
     "name": "stderr",
     "output_type": "stream",
     "text": [
      "\n"
     ]
    }
   ],
   "source": [
    "train = pd.read_csv('garbage-classification/zero-indexed-files.csv')\n",
    "data = []\n",
    "labels = train['Label'].values\n",
    "for i in tqdm(range(train.shape[0])):\n",
    "    img = load_image('garbage-classification/data/'+train['Name'][i]+'.jpg', True)\n",
    "    img = PIL_resize_ws(img, 32)\n",
    "    data.append(img)\n",
    "data = np.asarray(data)\n",
    "print(\"Training data size: \", data.shape)\n",
    "print(\"Training label size: \", labels.shape)"
   ]
  },
  {
   "cell_type": "code",
   "execution_count": 3,
   "metadata": {},
   "outputs": [
    {
     "name": "stdout",
     "output_type": "stream",
     "text": [
      "Training data shape:  torch.Size([2271, 32, 32])\n",
      "Training labels shape:  torch.Size([2271])\n",
      "Testing data shape:  torch.Size([256, 32, 32])\n",
      "Testing labels shape:  torch.Size([256])\n"
     ]
    }
   ],
   "source": [
    "num_classified = 6\n",
    "classified_name = [\"glass\", \"paper\", \"cardboard\", \"plastic\", \"metal\", \"trash\"]\n",
    "training_data, training_labels, testing_data, testing_labels = data_loader(train, data, labels, num_classified=num_classified, rgb=False, ratio=0.9)"
   ]
  },
  {
   "cell_type": "code",
   "execution_count": 4,
   "metadata": {},
   "outputs": [],
   "source": [
    "f_training_data = training_data.reshape((training_data.shape[0],training_data.shape[1]*training_data.shape[2]))\n",
    "f_testing_data = testing_data.reshape((testing_data.shape[0],testing_data.shape[1]*testing_data.shape[2]))\n",
    "\n",
    "predicted = nearest_neighbor_classify(f_training_data, list(training_labels), f_testing_data, k=num_classified)\n",
    "predicted = list(predicted[i].item() for i in range(len(predicted)))"
   ]
  },
  {
   "cell_type": "code",
   "execution_count": 5,
   "metadata": {},
   "outputs": [
    {
     "name": "stdout",
     "output_type": "stream",
     "text": [
      "Accuracy:  0.30078125\n"
     ]
    }
   ],
   "source": [
    "accuracy = 0.0\n",
    "for i in range(len(predicted)):\n",
    "    if predicted[i] == testing_labels[i]:\n",
    "        accuracy += (1.0/len(predicted))\n",
    "print(\"Accuracy: \", accuracy)"
   ]
  },
  {
   "cell_type": "code",
   "execution_count": 6,
   "metadata": {},
   "outputs": [
    {
     "name": "stdout",
     "output_type": "stream",
     "text": [
      "Normalized confusion matrix\n"
     ]
    },
    {
     "data": {
      "image/png": "[encoded data removed]",
      "text/plain": [
       "<Figure size 432x288 with 2 Axes>"
      ]
     },
     "metadata": {
      "needs_background": "light"
     },
     "output_type": "display_data"
    }
   ],
   "source": [
    "generate_confusion_matrix(testing_labels, predicted, classified_name, normalize=True)\n",
    "plt.show()"
   ]
  },
  {
   "cell_type": "markdown",
   "metadata": {},
   "source": [
    "## SIFT feature with NN classifier"
   ]
  },
  {
   "cell_type": "code",
   "execution_count": 7,
   "metadata": {},
   "outputs": [
    {
     "name": "stderr",
     "output_type": "stream",
     "text": [
      "100%|██████████| 2527/2527 [00:22<00:00, 113.84it/s]\n"
     ]
    },
    {
     "name": "stdout",
     "output_type": "stream",
     "text": [
      "Training data size:  (2527, 128, 128)\n",
      "Training label size:  (2527,)\n"
     ]
    }
   ],
   "source": [
    "train = pd.read_csv('garbage-classification/zero-indexed-files.csv')\n",
    "data = []\n",
    "labels = train['Label'].values\n",
    "for i in tqdm(range(train.shape[0])):\n",
    "    img = load_image('garbage-classification/data/'+train['Name'][i]+'.jpg', True)\n",
    "    img = PIL_resize_ws(img, 128)\n",
    "    data.append(img)\n",
    "data = np.asarray(data)\n",
    "print(\"Training data size: \", data.shape)\n",
    "print(\"Training label size: \", labels.shape)"
   ]
  },
  {
   "cell_type": "code",
   "execution_count": 8,
   "metadata": {},
   "outputs": [
    {
     "name": "stdout",
     "output_type": "stream",
     "text": [
      "Training data shape:  torch.Size([2271, 128, 128])\n",
      "Training labels shape:  torch.Size([2271])\n",
      "Testing data shape:  torch.Size([256, 128, 128])\n",
      "Testing labels shape:  torch.Size([256])\n"
     ]
    }
   ],
   "source": [
    "training_data, training_labels, testing_data, testing_labels = data_loader(train, data, labels, num_classified=num_classified, rgb=False, ratio=0.9)\n"
   ]
  },
  {
   "cell_type": "code",
   "execution_count": 9,
   "metadata": {},
   "outputs": [],
   "source": [
    "training_data = np.swapaxes(training_data, 1,2)\n",
    "testing_data = np.swapaxes(testing_data, 1,2)\n",
    "\n",
    "import os.path as osp\n",
    "import KNN\n",
    "import pickle\n",
    "vocab_filename = \"../project/vocab.pkl\"\n",
    "if not osp.isfile(vocab_filename):\n",
    "    vocab_size = 60\n",
    "    vocab = KNN.build_vocabulary(list(training_data), vocab_size)\n",
    "    with open(vocab_filename, 'wb') as f:\n",
    "        pickle.dump(vocab, f)\n"
   ]
  },
  {
   "cell_type": "code",
   "execution_count": null,
   "metadata": {},
   "outputs": [],
   "source": [
    "with open(vocab_filename, 'rb') as f:\n",
    "    vocabulary = pickle.load(f)\n",
    "train_image_feats = KNN.get_bags_of_sifts(list(training_data), vocabulary)\n",
    "test_image_feats = KNN.get_bags_of_sifts(list(testing_data), vocabulary)\n",
    "predicted = nearest_neighbor_classify(train_image_feats, list(training_labels), test_image_feats, k=num_classified)\n",
    "predicted = list(predicted[i].item() for i in range(len(predicted)))"
   ]
  },
  {
   "cell_type": "code",
   "execution_count": null,
   "metadata": {},
   "outputs": [],
   "source": [
    "accuracy = 0.0\n",
    "for i in range(len(predicted)):\n",
    "    if predicted[i] == testing_labels[i]:\n",
    "        accuracy += (1.0/len(predicted))\n",
    "print(\"Accuracy: \", accuracy)"
   ]
  },
  {
   "cell_type": "code",
   "execution_count": null,
   "metadata": {},
   "outputs": [],
   "source": [
    "generate_confusion_matrix(testing_labels, predicted, classified_name, normalize=True)\n",
    "plt.show()"
   ]
  },
  {
   "cell_type": "code",
   "execution_count": null,
   "metadata": {},
   "outputs": [],
   "source": []
  }
 ],
 "metadata": {
  "kernelspec": {
   "display_name": "Python 3",
   "language": "python",
   "name": "python3"
  },
  "language_info": {
   "codemirror_mode": {
    "name": "ipython",
    "version": 3
   },
   "file_extension": ".py",
   "mimetype": "text/x-python",
   "name": "python",
   "nbconvert_exporter": "python",
   "pygments_lexer": "ipython3",
   "version": "3.7.1"
  }
 },
 "nbformat": 4,
 "nbformat_minor": 2
}
